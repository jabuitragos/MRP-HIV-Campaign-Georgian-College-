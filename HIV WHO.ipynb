{
 "cells": [
  {
   "cell_type": "code",
   "execution_count": 20,
   "id": "dedc7311-6d2a-4ac1-a852-fe90fb4824a7",
   "metadata": {},
   "outputs": [
    {
     "name": "stdout",
     "output_type": "stream",
     "text": [
      "<class 'pandas.core.frame.DataFrame'>\n",
      "RangeIndex: 3104 entries, 0 to 3103\n",
      "Data columns (total 22 columns):\n",
      " #   Column                  Non-Null Count  Dtype  \n",
      "---  ------                  --------------  -----  \n",
      " 0   IndicatorCode           3104 non-null   object \n",
      " 1   Indicator               3104 non-null   object \n",
      " 2   ValueType               3104 non-null   object \n",
      " 3   ParentLocationCode      3104 non-null   object \n",
      " 4   ParentLocation          3104 non-null   object \n",
      " 5   Location type           3104 non-null   object \n",
      " 6   SpatialDimValueCode     3104 non-null   object \n",
      " 7   Location                3104 non-null   object \n",
      " 8   Period type             3104 non-null   object \n",
      " 9   Period                  3104 non-null   int64  \n",
      " 10  IsLatestYear            3104 non-null   bool   \n",
      " 11  Dim1 type               3104 non-null   object \n",
      " 12  Dim1                    3104 non-null   object \n",
      " 13  Dim1ValueCode           3104 non-null   object \n",
      " 14  Dim2 type               3104 non-null   object \n",
      " 15  Dim2                    3104 non-null   object \n",
      " 16  Dim2ValueCode           3104 non-null   object \n",
      " 17  FactValueNumeric        1158 non-null   float64\n",
      " 18  Value                   3104 non-null   object \n",
      " 19  FactValueTranslationID  1946 non-null   float64\n",
      " 20  Language                3104 non-null   object \n",
      " 21  DateModified            3104 non-null   object \n",
      "dtypes: bool(1), float64(2), int64(1), object(18)\n",
      "memory usage: 512.4+ KB\n"
     ]
    },
    {
     "data": {
      "text/plain": [
       "None"
      ]
     },
     "metadata": {},
     "output_type": "display_data"
    },
    {
     "data": {
      "text/plain": [
       "count    1.158000e+03\n",
       "mean     5.228266e+05\n",
       "std      2.850184e+06\n",
       "min      0.000000e+00\n",
       "25%      1.052500e-02\n",
       "50%      7.916500e-01\n",
       "75%      2.128185e+05\n",
       "max      6.123780e+07\n",
       "Name: Value, dtype: float64"
      ]
     },
     "metadata": {},
     "output_type": "display_data"
    },
    {
     "data": {
      "text/plain": [
       "1946"
      ]
     },
     "metadata": {},
     "output_type": "display_data"
    },
    {
     "name": "stdout",
     "output_type": "stream",
     "text": [
      "Cleaning completed. File saved as 'HIV_DATABASE_CLEANED.csv'.\n"
     ]
    }
   ],
   "source": [
    "import pandas as pd\n",
    "import numpy as np\n",
    "\n",
    "# Here we have our loading ddtaset and took in mind the headers\n",
    "df = pd.read_csv('HIV DATABASE WHO.csv', encoding='latin1', header=0)\n",
    "\n",
    "# Drop columns with no values\n",
    "df = df.dropna(axis=1, how='all')\n",
    "\n",
    "# Basic statistics and column types\n",
    "display(df.info())\n",
    "\n",
    "# We are going to clean the \"Value \" column, handling missing values, outliers and non numeric values .\n",
    "column_ad = 'Value'\n",
    "if column_ad in df.columns:\n",
    "    # Remove spaces and non-numeric values\n",
    "    df[column_ad] = df[column_ad].astype(str).str.replace(',', '').str.replace(' ', '')\n",
    "    df[column_ad] = pd.to_numeric(df[column_ad], errors='coerce')  # Convert to numeric, setting errors to NaN\n",
    "\n",
    "    # Convert to percentage if 'Indicator' column has specific value\n",
    "    if 'Indicator' in df.columns: \n",
    "        df.loc[df['Indicator'] == 'Percentage of HIV-positive results returned to people in the calendar year', column_ad] /= 100\n",
    "    \n",
    "    display(df[column_ad].describe())\n",
    "    display(df[column_ad].isnull().sum())  # Count missing values\n",
    "    \n",
    "else:\n",
    "    print(f\"Column {column_ad} not found. Check column names: {df.columns}\")\n",
    "\n",
    "# Handling missing values\n",
    "\n",
    "# Option 2: Drop rows with missing values (if preferred)\n",
    "df = df.dropna(subset=[column_ad])\n",
    "\n",
    "# Save cleaned dataset\n",
    "df.to_csv('HIV_DATABASE_CLEANED.csv', index=False)\n",
    "\n",
    "print(\"Cleaning completed. File saved as 'HIV_DATABASE_CLEANED.csv'.\")\n"
   ]
  },
  {
   "cell_type": "code",
   "execution_count": null,
   "id": "6e099320-6286-42be-9a76-a1e5c5fb5834",
   "metadata": {},
   "outputs": [],
   "source": []
  }
 ],
 "metadata": {
  "kernelspec": {
   "display_name": "Python 3 (ipykernel)",
   "language": "python",
   "name": "python3"
  },
  "language_info": {
   "codemirror_mode": {
    "name": "ipython",
    "version": 3
   },
   "file_extension": ".py",
   "mimetype": "text/x-python",
   "name": "python",
   "nbconvert_exporter": "python",
   "pygments_lexer": "ipython3",
   "version": "3.12.4"
  }
 },
 "nbformat": 4,
 "nbformat_minor": 5
}
