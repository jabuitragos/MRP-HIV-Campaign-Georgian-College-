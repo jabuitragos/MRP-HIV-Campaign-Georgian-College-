{
 "cells": [
  {
   "cell_type": "code",
   "execution_count": 562,
   "id": "dedc7311-6d2a-4ac1-a852-fe90fb4824a7",
   "metadata": {},
   "outputs": [],
   "source": [
    "import pandas as pd\n",
    "import numpy as np\n",
    "\n"
   ]
  },
  {
   "cell_type": "code",
   "execution_count": 563,
   "id": "6e099320-6286-42be-9a76-a1e5c5fb5834",
   "metadata": {},
   "outputs": [
    {
     "name": "stdout",
     "output_type": "stream",
     "text": [
      "    IndicatorCode                                          Indicator  \\\n",
      "0  HIV_0000000027  Reported number of HIV tests performed where r...   \n",
      "1  HIV_0000000027  Reported number of HIV tests performed where r...   \n",
      "2  HIV_0000000027  Reported number of HIV tests performed where r...   \n",
      "3  HIV_0000000027  Reported number of HIV tests performed where r...   \n",
      "4  HIV_0000000027  Reported number of HIV tests performed where r...   \n",
      "\n",
      "  ValueType ParentLocationCode         ParentLocation Location type  \\\n",
      "0   numeric                EMR  Eastern Mediterranean       Country   \n",
      "1   numeric                AFR                 Africa       Country   \n",
      "2   numeric                EMR  Eastern Mediterranean       Country   \n",
      "3   numeric                WPR        Western Pacific       Country   \n",
      "4   numeric                AFR                 Africa       Country   \n",
      "\n",
      "  SpatialDimValueCode                    Location Period type  Period  ...  \\\n",
      "0                 QAT                       Qatar        Year    2023  ...   \n",
      "1                 RWA                      Rwanda        Year    2023  ...   \n",
      "2                 IRN  Iran (Islamic Republic of)        Year    2023  ...   \n",
      "3                 MYS                    Malaysia        Year    2023  ...   \n",
      "4                 BEN                       Benin        Year    2023  ...   \n",
      "\n",
      "   FactValueUoM FactValueNumericLowPrefix FactValueNumericLow  \\\n",
      "0           NaN                       NaN                 NaN   \n",
      "1           NaN                       NaN                 NaN   \n",
      "2           NaN                       NaN                 NaN   \n",
      "3           NaN                       NaN                 NaN   \n",
      "4           NaN                       NaN                 NaN   \n",
      "\n",
      "  FactValueNumericHighPrefix FactValueNumericHigh      Value  \\\n",
      "0                        NaN                  NaN          1   \n",
      "1                        NaN                  NaN  1 030 232   \n",
      "2                        NaN                  NaN  1 047 167   \n",
      "3                        NaN                  NaN  1 048 660   \n",
      "4                        NaN                  NaN  1 055 035   \n",
      "\n",
      "  FactValueTranslationID  FactComments  Language              DateModified  \n",
      "0                    NaN           NaN        EN  2024-09-20T04:00:00.000Z  \n",
      "1                    NaN           NaN        EN  2024-09-20T04:00:00.000Z  \n",
      "2                    NaN           NaN        EN  2024-09-20T04:00:00.000Z  \n",
      "3                    NaN           NaN        EN  2024-09-20T04:00:00.000Z  \n",
      "4                    NaN           NaN        EN  2024-09-20T04:00:00.000Z  \n",
      "\n",
      "[5 rows x 34 columns]\n"
     ]
    }
   ],
   "source": [
    "# Here we have our loading dataset and took in mind the headers\n",
    "df = pd.read_csv('HIV DATABASE WHO.csv', encoding='latin1', header=0)\n",
    "print(df.head())\n"
   ]
  },
  {
   "cell_type": "code",
   "execution_count": 564,
   "id": "fbc138ea-099c-4739-ab3e-866e720c727d",
   "metadata": {},
   "outputs": [],
   "source": [
    "# Drop columns with no values\n",
    "df_cleaned = df.dropna(axis=1, how='all')\n"
   ]
  },
  {
   "cell_type": "code",
   "execution_count": 565,
   "id": "18273214-2da9-48c2-b094-f2769abbe2f7",
   "metadata": {},
   "outputs": [
    {
     "name": "stdout",
     "output_type": "stream",
     "text": [
      "<class 'pandas.core.frame.DataFrame'>\n",
      "RangeIndex: 3104 entries, 0 to 3103\n",
      "Data columns (total 22 columns):\n",
      " #   Column                  Non-Null Count  Dtype  \n",
      "---  ------                  --------------  -----  \n",
      " 0   IndicatorCode           3104 non-null   object \n",
      " 1   Indicator               3104 non-null   object \n",
      " 2   ValueType               3104 non-null   object \n",
      " 3   ParentLocationCode      3104 non-null   object \n",
      " 4   ParentLocation          3104 non-null   object \n",
      " 5   Location type           3104 non-null   object \n",
      " 6   SpatialDimValueCode     3104 non-null   object \n",
      " 7   Location                3104 non-null   object \n",
      " 8   Period type             3104 non-null   object \n",
      " 9   Period                  3104 non-null   int64  \n",
      " 10  IsLatestYear            3104 non-null   bool   \n",
      " 11  Dim1 type               3104 non-null   object \n",
      " 12  Dim1                    3104 non-null   object \n",
      " 13  Dim1ValueCode           3104 non-null   object \n",
      " 14  Dim2 type               3104 non-null   object \n",
      " 15  Dim2                    3104 non-null   object \n",
      " 16  Dim2ValueCode           3104 non-null   object \n",
      " 17  FactValueNumeric        1158 non-null   float64\n",
      " 18  Value                   3104 non-null   object \n",
      " 19  FactValueTranslationID  1946 non-null   float64\n",
      " 20  Language                3104 non-null   object \n",
      " 21  DateModified            3104 non-null   object \n",
      "dtypes: bool(1), float64(2), int64(1), object(18)\n",
      "memory usage: 512.4+ KB\n"
     ]
    },
    {
     "data": {
      "text/plain": [
       "None"
      ]
     },
     "metadata": {},
     "output_type": "display_data"
    }
   ],
   "source": [
    "# Basic statistics and column types\n",
    "display(df_cleaned.info())\n"
   ]
  },
  {
   "cell_type": "code",
   "execution_count": 566,
   "id": "c9eb9edd-8071-494f-8912-647fbbf3d4dc",
   "metadata": {},
   "outputs": [
    {
     "data": {
      "text/plain": [
       "count     1158.0\n",
       "unique     890.0\n",
       "top          0.0\n",
       "freq        14.0\n",
       "Name: Value, dtype: float64"
      ]
     },
     "metadata": {},
     "output_type": "display_data"
    },
    {
     "data": {
      "text/plain": [
       "1946"
      ]
     },
     "metadata": {},
     "output_type": "display_data"
    }
   ],
   "source": [
    "# We are going to clean the \"Value \" column, handling missing values, outliers and non numeric values .\n",
    "column_ad = 'Value'\n",
    "if column_ad in df_cleaned.columns:\n",
    "    # Remove spaces and non-numeric values\n",
    "    df_cleaned.loc[:, column_ad] = df_cleaned[column_ad].astype(str).str.replace(',', '').str.replace(' ', '')\n",
    "    df_cleaned.loc[:, column_ad] = pd.to_numeric(df_cleaned[column_ad], errors='coerce')  # Convert to numeric, setting errors to NaN\n",
    "    \n",
    "    df_cleaned.loc[:, column_ad] = df_cleaned[column_ad].astype(float)\n",
    "    display(df_cleaned[column_ad].describe())\n",
    "    \n",
    "    display(df_cleaned[column_ad].isnull().sum())  # Showing how many missing values we have\n",
    "    \n",
    "else:\n",
    "    print(f\"Column {column_ad} not found. Check column names: {df_cleaned.columns}\")\n"
   ]
  },
  {
   "cell_type": "code",
   "execution_count": 567,
   "id": "f73e2d6e-3167-4e10-a6a6-2ef7d9326c19",
   "metadata": {},
   "outputs": [],
   "source": [
    "# Handling missing values\n",
    "\n",
    "# Drop rows with missing values\n",
    "df_cleaned = df_cleaned.dropna(subset=[column_ad])\n",
    "\n"
   ]
  },
  {
   "cell_type": "code",
   "execution_count": 568,
   "id": "09db1387-6e9b-4498-95d3-dab067efa1fd",
   "metadata": {},
   "outputs": [],
   "source": [
    "# In this step we need to drop some useless columns\n",
    "columns_to_drop = [\n",
    "    'ValueType', 'ParentLocationCode', 'Location type', 'SpatialDimValueCode',\n",
    "    'Period type', 'Dim1 type', 'Dim1ValueCode', 'Dim2 type','IsLatestYear',\n",
    "    'Dim2ValueCode', 'FactValueTranslationID', 'DateModified'\n",
    "]\n",
    "\n",
    "# Drop no functional clumns\n",
    "df_cleaned = df_cleaned.drop(columns=[col for col in columns_to_drop if col in df_cleaned.columns])"
   ]
  },
  {
   "cell_type": "code",
   "execution_count": 569,
   "id": "8fabae89-d852-4eac-8206-5cf21103964d",
   "metadata": {},
   "outputs": [],
   "source": [
    "#To facilitate the process of understanding the database\n",
    "columns_to_rename = {\n",
    "    'ParentLocation': 'Continent',\n",
    "    'Location': 'Country',\n",
    "    'Period': 'Year',\n",
    "    'Dim1': 'Sex',\n",
    "    'Dim2': 'Age'\n",
    "}\n",
    "\n",
    "# Rename columns if they exist in the dataset\n",
    "df_cleaned = df_cleaned.rename(columns={col: new_col for col, new_col in columns_to_rename.items() if col in df_cleaned.columns})\n"
   ]
  },
  {
   "cell_type": "code",
   "execution_count": 570,
   "id": "e8ea4e72-3826-4638-892b-da104b2dcc98",
   "metadata": {},
   "outputs": [
    {
     "data": {
      "text/html": [
       "<div>\n",
       "<style scoped>\n",
       "    .dataframe tbody tr th:only-of-type {\n",
       "        vertical-align: middle;\n",
       "    }\n",
       "\n",
       "    .dataframe tbody tr th {\n",
       "        vertical-align: top;\n",
       "    }\n",
       "\n",
       "    .dataframe thead th {\n",
       "        text-align: right;\n",
       "    }\n",
       "</style>\n",
       "<table border=\"1\" class=\"dataframe\">\n",
       "  <thead>\n",
       "    <tr style=\"text-align: right;\">\n",
       "      <th></th>\n",
       "      <th>Country</th>\n",
       "      <th>Year</th>\n",
       "      <th>Sex</th>\n",
       "      <th>Age</th>\n",
       "      <th>Concatenated</th>\n",
       "    </tr>\n",
       "  </thead>\n",
       "  <tbody>\n",
       "    <tr>\n",
       "      <th>0</th>\n",
       "      <td>Qatar</td>\n",
       "      <td>2023</td>\n",
       "      <td>Both sexes</td>\n",
       "      <td>&lt;15 years of age</td>\n",
       "      <td>Qatar2023Bothsexes&lt;15yearsofage</td>\n",
       "    </tr>\n",
       "    <tr>\n",
       "      <th>1</th>\n",
       "      <td>Rwanda</td>\n",
       "      <td>2023</td>\n",
       "      <td>Female</td>\n",
       "      <td>15+ years</td>\n",
       "      <td>Rwanda2023Female15+years</td>\n",
       "    </tr>\n",
       "    <tr>\n",
       "      <th>2</th>\n",
       "      <td>Iran (Islamic Republic of)</td>\n",
       "      <td>2023</td>\n",
       "      <td>Female</td>\n",
       "      <td>15+ years</td>\n",
       "      <td>Iran(IslamicRepublicof)2023Female15+years</td>\n",
       "    </tr>\n",
       "    <tr>\n",
       "      <th>3</th>\n",
       "      <td>Malaysia</td>\n",
       "      <td>2023</td>\n",
       "      <td>Male</td>\n",
       "      <td>15+ years</td>\n",
       "      <td>Malaysia2023Male15+years</td>\n",
       "    </tr>\n",
       "    <tr>\n",
       "      <th>4</th>\n",
       "      <td>Benin</td>\n",
       "      <td>2023</td>\n",
       "      <td>Both sexes</td>\n",
       "      <td>All age groups (total)</td>\n",
       "      <td>Benin2023BothsexesAllagegroups(total)</td>\n",
       "    </tr>\n",
       "    <tr>\n",
       "      <th>5</th>\n",
       "      <td>Tajikistan</td>\n",
       "      <td>2023</td>\n",
       "      <td>Both sexes</td>\n",
       "      <td>All age groups (total)</td>\n",
       "      <td>Tajikistan2023BothsexesAllagegroups(total)</td>\n",
       "    </tr>\n",
       "  </tbody>\n",
       "</table>\n",
       "</div>"
      ],
      "text/plain": [
       "                      Country  Year         Sex                     Age  \\\n",
       "0                       Qatar  2023  Both sexes        <15 years of age   \n",
       "1                      Rwanda  2023      Female               15+ years   \n",
       "2  Iran (Islamic Republic of)  2023      Female               15+ years   \n",
       "3                    Malaysia  2023        Male               15+ years   \n",
       "4                       Benin  2023  Both sexes  All age groups (total)   \n",
       "5                  Tajikistan  2023  Both sexes  All age groups (total)   \n",
       "\n",
       "                                 Concatenated  \n",
       "0             Qatar2023Bothsexes<15yearsofage  \n",
       "1                    Rwanda2023Female15+years  \n",
       "2   Iran(IslamicRepublicof)2023Female15+years  \n",
       "3                    Malaysia2023Male15+years  \n",
       "4       Benin2023BothsexesAllagegroups(total)  \n",
       "5  Tajikistan2023BothsexesAllagegroups(total)  "
      ]
     },
     "execution_count": 570,
     "metadata": {},
     "output_type": "execute_result"
    }
   ],
   "source": [
    "#We will create a key that will help us with the next step \n",
    "def concatenate_columns(df):\n",
    "    df[\"Concatenated\"] = (\n",
    "        df[\"Country\"].str.replace(\" \", \"\") + \n",
    "        df[\"Year\"].astype(str) + \n",
    "        df[\"Sex\"].str.replace(\" \", \"\") + \n",
    "        df[\"Age\"].str.replace(\" \", \"\")\n",
    "    )\n",
    "    return df\n",
    "\n",
    "# Apply the function\n",
    "df_cleaned = concatenate_columns(df_cleaned)\n",
    "\n",
    "# Show the first 6 rows to verify\n",
    "df_cleaned[[\"Country\", \"Year\", \"Sex\", \"Age\", \"Concatenated\"]].head(6)\n",
    "\n"
   ]
  },
  {
   "cell_type": "code",
   "execution_count": 571,
   "id": "009118ae-5229-4a33-9577-cd9946e62d25",
   "metadata": {},
   "outputs": [],
   "source": [
    "# Split the dataset based on the \"Indicator\" column\n",
    "df_tested = df_cleaned[df_cleaned[\"Indicator\"] == \"Reported number of HIV tests performed where results were received by a person (testing volume)\"]\n",
    "df_positive_percentage = df_cleaned[df_cleaned[\"Indicator\"] == \"Percentage of HIV-positive results returned to people in the calendar year\"]\n",
    "\n"
   ]
  },
  {
   "cell_type": "code",
   "execution_count": 572,
   "id": "f55e2b0c-56de-4720-8d3a-e8f18c344171",
   "metadata": {},
   "outputs": [],
   "source": [
    "# Merge the datasets using the \"Concatenated\" column\n",
    "df_positive_percentage = df_positive_percentage.merge(\n",
    "    df_tested[[\"Concatenated\", \"Value\"]],  # Selecting only needed columns\n",
    "    on=\"Concatenated\",\n",
    "    how=\"left\"  # Left join to keep all rows from Positive Percentage\n",
    ")\n",
    "\n"
   ]
  },
  {
   "cell_type": "code",
   "execution_count": 573,
   "id": "7bfa5e0d-efa9-4617-bf14-930845f50e25",
   "metadata": {},
   "outputs": [],
   "source": [
    "# Perform the calculation: (Integer Value * Value) / 100\n",
    "df_positive_percentage[\"Positive Cases\"] = (df_positive_percentage[\"Value_x\"] * df_positive_percentage[\"Value_y\"]) / 100\n"
   ]
  },
  {
   "cell_type": "code",
   "execution_count": 574,
   "id": "90ca89cc-9435-4da0-ac7b-b087383b7081",
   "metadata": {},
   "outputs": [],
   "source": [
    "#Changing names\n",
    "df_positive_percentage.rename(columns={\"Value_y\": \"Tested Cases\"}, inplace=True)"
   ]
  },
  {
   "cell_type": "code",
   "execution_count": 575,
   "id": "a3c12c00-cdfc-4cfc-adc9-f16b7f50a142",
   "metadata": {},
   "outputs": [],
   "source": [
    "df_positive_percentage[\"Negative Cases\"] = (df_positive_percentage[\"Tested Cases\"] - df_positive_percentage[\"Positive Cases\"])\n"
   ]
  },
  {
   "cell_type": "code",
   "execution_count": 576,
   "id": "7fb04b27-f76f-4829-8b8f-d80957d7bbed",
   "metadata": {},
   "outputs": [
    {
     "name": "stdout",
     "output_type": "stream",
     "text": [
      "Index(['IndicatorCode', 'Indicator', 'Continent', 'Country', 'Year', 'Sex',\n",
      "       'Age', 'FactValueNumeric', 'Value_x', 'Language', 'Concatenated',\n",
      "       'Tested Cases', 'Positive Cases', 'Negative Cases'],\n",
      "      dtype='object')\n"
     ]
    }
   ],
   "source": [
    "print(df_positive_percentage.columns)"
   ]
  },
  {
   "cell_type": "code",
   "execution_count": 577,
   "id": "aff2b1e2-22a3-4a09-a402-39eb162f09f7",
   "metadata": {},
   "outputs": [
    {
     "name": "stdout",
     "output_type": "stream",
     "text": [
      "Cleaning completed. File saved as 'HIV_DATABASE_CLEANED.xlsx' with original and cleaned data.\n"
     ]
    }
   ],
   "source": [
    "# Save original and cleaned datasets in a new Excel file\n",
    "with pd.ExcelWriter('HIV_DATABASE_CLEANED.xlsx') as writer:\n",
    "    df.to_excel(writer, sheet_name='Original Data', index=False)\n",
    "    df_cleaned.to_excel(writer, sheet_name='Cleaned Data', index=False)\n",
    "    df_tested.to_excel(writer, sheet_name='Tested Population', index=False)\n",
    "    df_positive_percentage.to_excel(writer, sheet_name='Positive Percentage', index=False)\n",
    "    \n",
    "\n",
    "print(\"Cleaning completed. File saved as 'HIV_DATABASE_CLEANED.xlsx' with original and cleaned data.\")\n"
   ]
  }
 ],
 "metadata": {
  "kernelspec": {
   "display_name": "Python 3 (ipykernel)",
   "language": "python",
   "name": "python3"
  },
  "language_info": {
   "codemirror_mode": {
    "name": "ipython",
    "version": 3
   },
   "file_extension": ".py",
   "mimetype": "text/x-python",
   "name": "python",
   "nbconvert_exporter": "python",
   "pygments_lexer": "ipython3",
   "version": "3.12.4"
  }
 },
 "nbformat": 4,
 "nbformat_minor": 5
}
